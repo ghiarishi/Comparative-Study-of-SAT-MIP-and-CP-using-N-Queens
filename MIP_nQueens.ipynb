{
 "cells": [
  {
   "cell_type": "markdown",
   "metadata": {},
   "source": [
    "Through this program, we wish to solve the N Queens problem using the MIP Solver from Google's OR-Tools library in order to perform a comparative analysis between SAT, Mixed Integer Programming and Constraint Programming.\n",
    "\n",
    "But what is N Queens? The N Queens problem is to place $n$ queens in such a manner on an $n$ x $n$ chessboard that no queens attack each other by being in the same row, column or diagonal. \n",
    "\n",
    "A similar kind of problem can be formulated with the Knights as well. "
   ]
  },
  {
   "cell_type": "code",
   "execution_count": 1,
   "metadata": {},
   "outputs": [],
   "source": [
    "from ortools.linear_solver.pywraplp import Solver\n",
    "from typing import List"
   ]
  },
  {
   "cell_type": "markdown",
   "metadata": {},
   "source": [
    "QHere, we shall initialize the solver. \n",
    "\n",
    "The value for $n$, which represents the length of the side of the chessboard will be entered as input at the bottom of the code when the NQueensMIP class is called. For example, $n$ = 4 shall denote a 4 by 4 chessboard, with a total of 4 queens to place.  "
   ]
  },
  {
   "cell_type": "code",
   "execution_count": 2,
   "metadata": {},
   "outputs": [],
   "source": [
    "# create the model\n",
    "model = Solver('model', Solver.CBC_MIXED_INTEGER_PROGRAMMING)"
   ]
  },
  {
   "cell_type": "code",
   "execution_count": 3,
   "metadata": {},
   "outputs": [],
   "source": [
    "class NQueensMIP:\n",
    "    def __init__(self, n):\n",
    "        self.n = n"
   ]
  },
  {
   "cell_type": "markdown",
   "metadata": {},
   "source": [
    "Below, we have created a 2-Dimensional List in order to represent the cells/squares of the chessboard. Each cell shall be represented by an Integer Variable with a value of either 0 or 1. 0 shall denote the cell is empty with no piece on it, while 1 will denote a Queen has been placed. "
   ]
  },
  {
   "cell_type": "code",
   "execution_count": 4,
   "metadata": {},
   "outputs": [],
   "source": [
    "def create_variables(self):\n",
    "    n = self.n\n",
    "    board = [[0]*n for _ in range(n)]\n",
    "    self.board = board\n",
    "\n",
    "    model = self.model\n",
    "    \n",
    "    for i in range(n):\n",
    "        for j in range(n):\n",
    "            board[i][j] = model.IntVar(0, 1, f'row {i}, col {j}')\n",
    "\n",
    "NQueensMIP.create_variables = create_variables"
   ]
  },
  {
   "cell_type": "markdown",
   "metadata": {},
   "source": [
    "With the variables created, we can now sum them up for each row, which allows us to see the total number of queens in a row. This data is stored in a list of size $n$, where the $ith$ element is the number of queens in the $ith$ row. "
   ]
  },
  {
   "cell_type": "code",
   "execution_count": 5,
   "metadata": {},
   "outputs": [],
   "source": [
    "def limit_queens_row(self):\n",
    "    n = self.n\n",
    "    board = self.board\n",
    "\n",
    "    rows = [0]*n # n rows\n",
    "    self.rows = rows\n",
    "    \n",
    "    for i in range(n):\n",
    "        for j in range(n):\n",
    "            rows[i] += board[i][j]\n",
    "            \n",
    "NQueensMIP.limit_queens_row = limit_queens_row"
   ]
  },
  {
   "cell_type": "markdown",
   "metadata": {},
   "source": [
    "We then repeat the above process for columns, which allows us to see the total number of queens in a column. This data is stored in a list of size $n$, where the $ith$ element is the number of queens in the $ith$ column. "
   ]
  },
  {
   "cell_type": "code",
   "execution_count": 6,
   "metadata": {},
   "outputs": [],
   "source": [
    "def limit_queens_column(self):\n",
    "    n = self.n\n",
    "    board = self.board\n",
    "\n",
    "    columns = [0]*n # n columns\n",
    "    self.columns = columns\n",
    "    \n",
    "    for j in range(n):\n",
    "        for i in range(n):\n",
    "            columns[j] += board[i][j]\n",
    "            \n",
    "NQueensMIP.limit_queens_column = limit_queens_column"
   ]
  },
  {
   "cell_type": "markdown",
   "metadata": {},
   "source": [
    "We then repeat the above process for diagonals, which allows us to see the total number of queens in a diagonal. This data is stored in a list of size $4n-2$, where the $ith$ element is the number of queens in the $ith$ diagonal. \n",
    "There are a total of $4n-2$ diagonals, $2n-1$ of which go from the bottom left to the top right of the board, and the other $2n-1$ of which go from the bottom right to the top left of the board.  "
   ]
  },
  {
   "cell_type": "code",
   "execution_count": 7,
   "metadata": {},
   "outputs": [],
   "source": [
    "def limit_queens_diagonal(self):\n",
    "    n = self.n\n",
    "    board = self.board\n",
    "\n",
    "    diagonals = [0]*((4*n)-2) # 4n-2 diagonals (including the corners)\n",
    "    self.diagonals = diagonals\n",
    "\n",
    "    for num in range(n):\n",
    "        \n",
    "        # bottom left to top right diagonals [2n-1]\n",
    "        i = num\n",
    "        j = 0\n",
    "        while j<=num:\n",
    "            diagonals[num] += board[i][j]\n",
    "            i -= 1\n",
    "            j += 1\n",
    "\n",
    "        if num != 0:\n",
    "            i = n-1\n",
    "            j = num\n",
    "            while j <= n-1:\n",
    "                diagonals[n + num -1] += board[i][j]\n",
    "                i -= 1\n",
    "                j += 1\n",
    "\n",
    "        # bottom right to top let diagonals [2n-1]\n",
    "        i = num\n",
    "        j = n-1\n",
    "        while i >= 0:\n",
    "            diagonals[2*n + num - 1] += board[i][j]\n",
    "            i -= 1\n",
    "            j -= 1\n",
    "\n",
    "        i = n-1\n",
    "        j = n-2-num\n",
    "        while j>=0:\n",
    "            diagonals[3*n + num -1] += board[i][j]\n",
    "            i -= 1\n",
    "            j -= 1\n",
    "            \n",
    "NQueensMIP.limit_queens_diagonal = limit_queens_diagonal           "
   ]
  },
  {
   "cell_type": "markdown",
   "metadata": {},
   "source": [
    "We now constrain the total number of queens in the rows, columns and diagonals. Each row and column can have EXACTLY ONE queen each, and the diagonals can have AT MOST ONE queen each. "
   ]
  },
  {
   "cell_type": "code",
   "execution_count": 8,
   "metadata": {},
   "outputs": [],
   "source": [
    "def add_constraints(self):\n",
    "    n = self.n\n",
    "    rows = self.rows\n",
    "    columns = self.columns\n",
    "    diagonals = self.diagonals\n",
    "    model = self.model\n",
    "    \n",
    "    for num in range(n):\n",
    "        model.Add(rows[num] == 1) # row constraints\n",
    "        model.Add(columns[num] == 1) # column constraints\n",
    "            \n",
    "    for num in range((4*n)-2):\n",
    "        model.Add(diagonals[num] <= 1) # diagonal constraints\n",
    "\n",
    "NQueensMIP.add_constraints = add_constraints"
   ]
  },
  {
   "cell_type": "markdown",
   "metadata": {},
   "source": [
    "With the constraints set, we now have 3 functions to calculate the new coordinates for each cell of the chess board after we perform reflections about the horizontal, vertical or the diagonal axes. "
   ]
  },
  {
   "cell_type": "code",
   "execution_count": 9,
   "metadata": {},
   "outputs": [],
   "source": [
    "def reflect_horizontal(self, i, j):\n",
    "    # Mirror is to the right\n",
    "    return i, self.n - j - 1\n",
    "\n",
    "NQueensMIP.reflect_horizontal = reflect_horizontal"
   ]
  },
  {
   "cell_type": "code",
   "execution_count": 10,
   "metadata": {},
   "outputs": [],
   "source": [
    "def reflect_vertical(self, i, j):   \n",
    "    # Mirror is to the bottom\n",
    "    return self.n - i - 1, j\n",
    "\n",
    "NQueensMIP.reflect_vertical = reflect_vertical"
   ]
  },
  {
   "cell_type": "code",
   "execution_count": 11,
   "metadata": {},
   "outputs": [],
   "source": [
    "def reflect_diagonal(self, i, j):\n",
    "    # Mirror passes across a diagonal (Top left to bottom right)\n",
    "    return j, i \n",
    "\n",
    "NQueensMIP.reflect_diagonal = reflect_diagonal"
   ]
  },
  {
   "cell_type": "markdown",
   "metadata": {},
   "source": [
    "Here, we run the solver while it continues to return optimal solutions, all the while incrementing the counter of the number of fundamental solutions found. \n",
    "\n",
    "A fundamental solution is one that can be rotated and reflected to create other derivative solutions. In order to improve the runtime of the code, we have decided to calculate only these fundamental solutions. \n",
    "\n",
    "This is done in the following manner: \n",
    "We have 3 types of transforms (reflection about the 3 axes), each of which functions as a single bit in a 3-bit binary number. From none, to all can be applied on a fundamental solution to obtain other derivative solutions. Thus, through the code below, we constrain the solver to ingore each of these solutions. \n",
    "\n",
    "There is an approximate 8x time saving through the above heuristic, as each fundamental solution can have a maximum of 8 different derivative solutions. "
   ]
  },
  {
   "cell_type": "code",
   "execution_count": 12,
   "metadata": {},
   "outputs": [],
   "source": [
    "from timeit import default_timer as timer\n",
    "def solve(self, print = False) -> List[List[int]]:\n",
    "    t = timer()\n",
    "\n",
    "    # create the model\n",
    "    self.model = Solver('model', Solver.CBC_MIXED_INTEGER_PROGRAMMING)\n",
    "\n",
    "    self.create_variables()\n",
    "    self.limit_queens_row()\n",
    "    self.limit_queens_column()\n",
    "    self.limit_queens_diagonal()\n",
    "    self.add_constraints()\n",
    "    board = self.board\n",
    "    n = self.n\n",
    "\n",
    "    if self.model.Solve() != Solver.OPTIMAL:\n",
    "        raise ValueError('Impossible N Queens puzzle!')\n",
    "\n",
    "    num_soln = 0\n",
    "    while self.model.Solve() == Solver.OPTIMAL:\n",
    "        change_cells = [0] * 8\n",
    "        num_soln += 1\n",
    "        solved_board = []\n",
    "        for i in range(n):\n",
    "            row = []\n",
    "            for j in range(n):\n",
    "                row.append(int(board[i][j].solution_value()))\n",
    "                if board[i][j].solution_value() == 1:\n",
    "                    for x in range(8):\n",
    "                        new_i = i\n",
    "                        new_j = j\n",
    "\n",
    "                        #  find the reflections based on x\n",
    "                        # 000 001 010...\n",
    "                        if (x&4 == 4):\n",
    "                            new_i, new_j = self.reflect_diagonal(new_i, new_j)\n",
    "                        if (x&2 == 2):\n",
    "                            new_i, new_j = self.reflect_vertical(new_i, new_j)\n",
    "                        if (x&1 == 1):\n",
    "                            new_i, new_j = self.reflect_horizontal(new_i, new_j)\n",
    "                        change_cells[x] += board[new_i][new_j]\n",
    "            solved_board.append(row)\n",
    "        self.solved_board = solved_board\n",
    "        # IF PRINT IS SET TO TRUE ABOVE, ALL SOLUTIONS WILL BE PRINTED\n",
    "        if print is True: \n",
    "            self.pretty_print()\n",
    "        time_taken = timer() - t\n",
    "        for x in range(8):\n",
    "            self.model.Add(change_cells[x] <= n - 1)\n",
    "    return num_soln, time_taken\n",
    "\n",
    "NQueensMIP.solve = solve"
   ]
  },
  {
   "cell_type": "markdown",
   "metadata": {},
   "source": [
    "A function to pretty print a single solution. "
   ]
  },
  {
   "cell_type": "code",
   "execution_count": 13,
   "metadata": {},
   "outputs": [],
   "source": [
    "def pretty_print(self):\n",
    "    n = self.n\n",
    "    solved_board = self.board\n",
    "    \n",
    "    # \"pretty\" printing the solution\n",
    "    for i in range(n):\n",
    "        for j in range(n):\n",
    "            # print(j.solution_value())\n",
    "            if solved_board[i][j].solution_value() == 1:\n",
    "                # There is a queen in column j, row i.\n",
    "                print('Q', end=' ')\n",
    "            else:\n",
    "                print('_', end=' ')\n",
    "        print()\n",
    "    print()\n",
    "\n",
    "NQueensMIP.pretty_print = pretty_print"
   ]
  },
  {
   "cell_type": "markdown",
   "metadata": {},
   "source": [
    "Cell below is to find the number of fundamental solutions for $n$ in the range shown. "
   ]
  },
  {
   "cell_type": "code",
   "execution_count": 14,
   "metadata": {},
   "outputs": [
    {
     "name": "stdout",
     "output_type": "stream",
     "text": [
      "It took 0.008994498999527423 seconds to find 1 fundamental solutions for n = 4\n",
      "It took 0.04036573600023985 seconds to find 2 fundamental solutions for n = 5\n",
      "It took 0.028718605997710256 seconds to find 1 fundamental solutions for n = 6\n",
      "It took 0.14772661399911158 seconds to find 6 fundamental solutions for n = 7\n",
      "It took 1.249442366999574 seconds to find 12 fundamental solutions for n = 8\n",
      "It took 22.192589706002764 seconds to find 46 fundamental solutions for n = 9\n",
      "It took 114.50851606799915 seconds to find 92 fundamental solutions for n = 10\n"
     ]
    }
   ],
   "source": [
    "for n in range(4, 11):\n",
    "    solver = NQueensMIP(n)\n",
    "    output = solver.solve()\n",
    "    print('It took ' + str(output[1]) + ' seconds to find ' + str(output[0]) + ' fundamental solutions for n = ' + str(n)) "
   ]
  }
 ],
 "metadata": {
  "interpreter": {
   "hash": "ea891b1650acc27753bbeb8eb9bfddd7c06f68ea70892259cdcef6cd7c834772"
  },
  "kernelspec": {
   "display_name": "Python 3.8.10 ('cis_189-JErNwFpm-py3.8')",
   "language": "python",
   "name": "python3"
  },
  "language_info": {
   "codemirror_mode": {
    "name": "ipython",
    "version": 3
   },
   "file_extension": ".py",
   "mimetype": "text/x-python",
   "name": "python",
   "nbconvert_exporter": "python",
   "pygments_lexer": "ipython3",
   "version": "3.8.10"
  },
  "orig_nbformat": 4
 },
 "nbformat": 4,
 "nbformat_minor": 2
}
