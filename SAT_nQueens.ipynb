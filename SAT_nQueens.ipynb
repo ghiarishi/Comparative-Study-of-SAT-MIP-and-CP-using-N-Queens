{
 "cells": [
  {
   "cell_type": "markdown",
   "metadata": {},
   "source": [
    "Through this program, we wish to solve the N Queens problem using the SAT Solver based on $pycosat$ in order to perform a comparative analysis between SAT, Mixed Integer Programming and Constraint Programming.\n",
    "\n",
    "But what is N Queens? The N Queens problem is to place $n$ queens in such a manner on an $n$ x $n$ chessboard that no queens attack each other by being in the same row, column or diagonal. \n",
    "\n",
    "A similar kind of problem can be formulated with the Knights as well. "
   ]
  },
  {
   "cell_type": "code",
   "execution_count": 126,
   "metadata": {},
   "outputs": [],
   "source": [
    "import pycosat \n",
    "from typing import List"
   ]
  },
  {
   "cell_type": "code",
   "execution_count": 127,
   "metadata": {},
   "outputs": [],
   "source": [
    "class NQueensSAT:\n",
    "    pass"
   ]
  },
  {
   "cell_type": "markdown",
   "metadata": {},
   "source": [
    "$$x_{ij} = \\text{True iff the tile at row } i \\text{, column } j \\text{ contains a queen} $$"
   ]
  },
  {
   "cell_type": "code",
   "execution_count": 128,
   "metadata": {},
   "outputs": [],
   "source": [
    "def x(self, i:int, j:int) -> int:\n",
    "    n = self.n\n",
    "    return j+1 + (n)*i\n",
    "NQueensSAT.x = x"
   ]
  },
  {
   "cell_type": "markdown",
   "metadata": {},
   "source": [
    "With our board defined through the above function, we can begin to set our constraints. \n",
    "\n",
    "We shall start by implementing the 'Exactly One' constraint on each row of the board, to ensure only one cell through the row shall be true, signifying one queen. "
   ]
  },
  {
   "cell_type": "code",
   "execution_count": 129,
   "metadata": {},
   "outputs": [],
   "source": [
    "def exactly_one_row(self) -> List[List[int]]:\n",
    "    n = self.n\n",
    "    x = self.x\n",
    "    clauses = []\n",
    "\n",
    "    for r in range(n):\n",
    "        clauses.append([x(r,c) for c in range(n)])\n",
    "    \n",
    "    for r in range(n):\n",
    "        for c1 in range(n-1):\n",
    "            for c2 in range(c1+1, n):    \n",
    "                clauses.append([-x(r,c1), -x(r,c2)])\n",
    "\n",
    "    return clauses\n",
    "\n",
    "NQueensSAT.exactly_one_row = exactly_one_row"
   ]
  },
  {
   "cell_type": "markdown",
   "metadata": {},
   "source": [
    "We then repeat the same for each column of the board, to ensure only one cell through the column shall be true, signifying one queen. "
   ]
  },
  {
   "cell_type": "code",
   "execution_count": 130,
   "metadata": {},
   "outputs": [],
   "source": [
    "def exactly_one_column(self) -> List[List[int]]:\n",
    "    n = self.n\n",
    "    x = self.x\n",
    "    clauses = []\n",
    "\n",
    "    for c in range(n):\n",
    "        clauses.append([x(r,c) for r in range(n)])\n",
    "    \n",
    "    for c in range(n):\n",
    "        for r1 in range(n-1):\n",
    "            for r2 in range(r1+1, n):\n",
    "                clauses.append([-x(r1,c), -x(r2,c)])\n",
    "\n",
    "    return clauses\n",
    "\n",
    "NQueensSAT.exactly_one_column = exactly_one_column"
   ]
  },
  {
   "cell_type": "markdown",
   "metadata": {},
   "source": [
    "Finally, with the diagonals, we add the 'At Most One' constraint through clauses to ensure there is only 0 or 1 queen in each. $4n-6$ diagonals are considered, as corners are ignored. That is because they are covered under the row and column constraints.  "
   ]
  },
  {
   "cell_type": "code",
   "execution_count": 131,
   "metadata": {},
   "outputs": [],
   "source": [
    "def at_most_one_diagonal(self) -> List[List[int]]:\n",
    "    n = self.n\n",
    "    x = self.x\n",
    "    clauses = []\n",
    "    for r in range(n-1):\n",
    "        c1 = 0\n",
    "        c2 = n-1\n",
    "        for offset1 in range(0, n-r-1):\n",
    "            for offset2 in range(offset1 + 1, n-r):\n",
    "                clauses.append([-x(r+offset1, c1+offset1), -x(r+offset2, c1+offset2)])\n",
    "                clauses.append([-x(r+offset1, c2-offset1), -x(r+offset2, c2-offset2)])\n",
    "        \n",
    "    for r in range(1, n-1):\n",
    "        c1 = 0\n",
    "        c2 = n-1\n",
    "        for offset1 in range(0, r):\n",
    "            for offset2 in range(offset1 + 1, r+1):\n",
    "                clauses.append([-x(r-offset1, c1+offset1), -x(r-offset2, c1+offset2)])\n",
    "                clauses.append([-x(r-offset1, c2-offset1), -x(r-offset2, c2-offset2)])\n",
    "                \n",
    "    return clauses\n",
    "\n",
    "NQueensSAT.at_most_one_diagonal = at_most_one_diagonal"
   ]
  },
  {
   "cell_type": "markdown",
   "metadata": {},
   "source": [
    "Here we call all the functions and create the solver. "
   ]
  },
  {
   "cell_type": "code",
   "execution_count": 132,
   "metadata": {},
   "outputs": [],
   "source": [
    "def construct_solver(self, n):\n",
    "    self.n = n\n",
    "    self.row_clauses = self.exactly_one_row()\n",
    "    self.column_clauses = self.exactly_one_column()\n",
    "    self.diagonal_clauses = self.at_most_one_diagonal()\n",
    "\n",
    "NQueensSAT.__init__ = construct_solver"
   ]
  },
  {
   "cell_type": "markdown",
   "metadata": {},
   "source": [
    "Here we build the CNF through the list of clauses we've created. "
   ]
  },
  {
   "cell_type": "code",
   "execution_count": 133,
   "metadata": {},
   "outputs": [],
   "source": [
    "def build_cnf(self) -> List[List[int]]:\n",
    "    clauses = self.row_clauses + self.column_clauses + self.diagonal_clauses\n",
    "\n",
    "    return clauses\n",
    "\n",
    "NQueensSAT.build_cnf = build_cnf"
   ]
  },
  {
   "cell_type": "markdown",
   "metadata": {},
   "source": [
    "Here, we assign all the positive literals to 1 on the chessboard, by identifying their cell location through the process below. Each positive literal denotes the presence of a queena t that particular location."
   ]
  },
  {
   "cell_type": "code",
   "execution_count": 134,
   "metadata": {},
   "outputs": [],
   "source": [
    "def assignment_to_board(self, literals : List[int]) -> List[List[int]]:\n",
    "    solved_board = [[0] *self.n for _ in range(self.n)]\n",
    "    for l in literals:\n",
    "        if l > 0:\n",
    "            l = l-1\n",
    "            row = l // self.n\n",
    "            col = l % self.n\n",
    "            solved_board[row][col] = 1\n",
    "\n",
    "    return solved_board\n",
    "\n",
    "NQueensSAT.assignment_to_board = assignment_to_board"
   ]
  },
  {
   "cell_type": "markdown",
   "metadata": {},
   "source": [
    "With the constraints set, we now have 3 functions to calculate the new coordinates for each cell of the chess board after we perform reflections about the horizontal, vertical or the diagonal axes. \n",
    "\n",
    "The self.x function converts the new coordinates back into their respective literal."
   ]
  },
  {
   "cell_type": "code",
   "execution_count": 135,
   "metadata": {},
   "outputs": [],
   "source": [
    "def reflect_horizontal(self, literal):\n",
    "    # Mirror is to the right\n",
    "    i = (literal-1) // self.n\n",
    "    j = (literal-1) % self.n\n",
    "    return self.x(i, self.n - j - 1)\n",
    "\n",
    "NQueensSAT.reflect_horizontal = reflect_horizontal"
   ]
  },
  {
   "cell_type": "code",
   "execution_count": 136,
   "metadata": {},
   "outputs": [],
   "source": [
    "def reflect_vertical(self, literal):   \n",
    "    # Mirror is to the bottom\n",
    "    i = (literal-1) // self.n\n",
    "    j = (literal-1) % self.n\n",
    "    return self.x(self.n - i - 1, j)\n",
    "\n",
    "NQueensSAT.reflect_vertical = reflect_vertical"
   ]
  },
  {
   "cell_type": "code",
   "execution_count": 137,
   "metadata": {},
   "outputs": [],
   "source": [
    "def reflect_diagonal(self, literal):\n",
    "    # Mirror passes across a diagonal (Top left to bottom right)\n",
    "    i = (literal-1) // self.n\n",
    "    j = (literal-1) % self.n\n",
    "    return self.x(j, i) \n",
    "\n",
    "NQueensSAT.reflect_diagonal = reflect_diagonal"
   ]
  },
  {
   "cell_type": "markdown",
   "metadata": {},
   "source": [
    "Here, we run the solver while it continues to return optimal solutions, all the while incrementing the counter of the number of fundamental solutions found. \n",
    "\n",
    "A fundamental solution is one that can be rotated and reflected to create other derivative solutions. In order to improve the runtime of the code, we have decided to calculate only these fundamental solutions. \n",
    "\n",
    "This is done in the following manner: \n",
    "We have 3 types of transforms (reflection about the 3 axes), each of which functions as a single bit in a 3-bit binary number. From none, to all can be applied on a fundamental solution to obtain other derivative solutions. Thus, through the code below, we constrain the solver to ingore each of these solutions. \n",
    "\n",
    "There is an approximate 8x time saving through the above heuristic, as each fundamental solution can have a maximum of 8 different derivative solutions. "
   ]
  },
  {
   "cell_type": "code",
   "execution_count": 138,
   "metadata": {},
   "outputs": [],
   "source": [
    "from timeit import default_timer as timer\n",
    "def solve(self, print = False) -> List[List[int]]:\n",
    "    t = timer()\n",
    "\n",
    "    cnf = self.build_cnf()\n",
    "    literals = pycosat.solve(cnf)\n",
    "    if (literals == \"UNSAT\"):\n",
    "        raise ValueError('Impossible N Queens puzzle!')\n",
    "\n",
    "    num_soln = 0\n",
    "    while (literals != \"UNSAT\"):\n",
    "        self.solved_board = self.assignment_to_board(literals)\n",
    "\n",
    "        # IF PRINT IS SET TO TRUE ABOVE, ALL SOLUTIONS WILL BE PRINTED\n",
    "        if print is True: \n",
    "            self.pretty_print()\n",
    "        for x in range(8):\n",
    "            clause = []\n",
    "            for l in literals:\n",
    "                if l > 0:\n",
    "                    new_l = l\n",
    "                    if (x&4 == 4):\n",
    "                        new_l = self.reflect_diagonal(new_l)\n",
    "                    if (x&2 == 2):\n",
    "                        new_l = self.reflect_vertical(new_l)\n",
    "                    if (x&1 == 1):\n",
    "                        new_l = self.reflect_horizontal(new_l)\n",
    "                    clause.append(-new_l)   \n",
    "            cnf.append(clause)\n",
    "        num_soln += 1\n",
    "        literals = pycosat.solve(cnf)\n",
    "\n",
    "    time_taken = timer()-t\n",
    "    \n",
    "    return num_soln, time_taken\n",
    "    \n",
    "NQueensSAT.solve = solve"
   ]
  },
  {
   "cell_type": "markdown",
   "metadata": {},
   "source": [
    "A function to pretty print a single solution. "
   ]
  },
  {
   "cell_type": "code",
   "execution_count": 139,
   "metadata": {},
   "outputs": [],
   "source": [
    "def pretty_print(self):\n",
    "    n = self.n\n",
    "    \n",
    "    # \"pretty\" printing the solution\n",
    "    for i in range(n):\n",
    "        for j in range(n):\n",
    "            # print(j.solution_value())\n",
    "            if self.solved_board[i][j] == 1:\n",
    "                # There is a queen in column j, row i.\n",
    "                print('Q', end=' ')\n",
    "            else:\n",
    "                print('_', end=' ')\n",
    "        print()\n",
    "    print()\n",
    "\n",
    "NQueensSAT.pretty_print = pretty_print"
   ]
  },
  {
   "cell_type": "markdown",
   "metadata": {},
   "source": [
    "Cell below is to find the number of fundamental solutions for $n$ in the range shown. "
   ]
  },
  {
   "cell_type": "code",
   "execution_count": 140,
   "metadata": {},
   "outputs": [
    {
     "name": "stdout",
     "output_type": "stream",
     "text": [
      "It took 0.00031389899959322065 seconds to find 1 fundamental solutions for n = 4\n",
      "It took 0.0013140409973857459 seconds to find 2 fundamental solutions for n = 5\n",
      "It took 0.00092125599985593 seconds to find 1 fundamental solutions for n = 6\n",
      "It took 0.003323616001580376 seconds to find 6 fundamental solutions for n = 7\n",
      "It took 0.012813851997634629 seconds to find 12 fundamental solutions for n = 8\n",
      "It took 0.09176884500266169 seconds to find 46 fundamental solutions for n = 9\n",
      "It took 0.4920597029995406 seconds to find 92 fundamental solutions for n = 10\n",
      "It took 4.393774369997118 seconds to find 341 fundamental solutions for n = 11\n",
      "It took 147.75208694499815 seconds to find 1787 fundamental solutions for n = 12\n"
     ]
    },
    {
     "ename": "KeyboardInterrupt",
     "evalue": "",
     "output_type": "error",
     "traceback": [
      "\u001b[0;31m---------------------------------------------------------------------------\u001b[0m",
      "\u001b[0;31mKeyboardInterrupt\u001b[0m                         Traceback (most recent call last)",
      "\u001b[1;32m/mnt/c/Rishi Ghia/CIS 189/Project/Files/SAT_nQueens.ipynb Cell 27'\u001b[0m in \u001b[0;36m<cell line: 1>\u001b[0;34m()\u001b[0m\n\u001b[1;32m      <a href='vscode-notebook-cell://wsl%2Bubuntu/mnt/c/Rishi%20Ghia/CIS%20189/Project/Files/SAT_nQueens.ipynb#ch0000026vscode-remote?line=0'>1</a>\u001b[0m \u001b[39mfor\u001b[39;00m n \u001b[39min\u001b[39;00m \u001b[39mrange\u001b[39m(\u001b[39m4\u001b[39m, \u001b[39m16\u001b[39m):\n\u001b[1;32m      <a href='vscode-notebook-cell://wsl%2Bubuntu/mnt/c/Rishi%20Ghia/CIS%20189/Project/Files/SAT_nQueens.ipynb#ch0000026vscode-remote?line=1'>2</a>\u001b[0m     solver \u001b[39m=\u001b[39m NQueensSAT(n)\n\u001b[0;32m----> <a href='vscode-notebook-cell://wsl%2Bubuntu/mnt/c/Rishi%20Ghia/CIS%20189/Project/Files/SAT_nQueens.ipynb#ch0000026vscode-remote?line=2'>3</a>\u001b[0m     output \u001b[39m=\u001b[39m solver\u001b[39m.\u001b[39;49msolve()\n\u001b[1;32m      <a href='vscode-notebook-cell://wsl%2Bubuntu/mnt/c/Rishi%20Ghia/CIS%20189/Project/Files/SAT_nQueens.ipynb#ch0000026vscode-remote?line=3'>4</a>\u001b[0m     \u001b[39mprint\u001b[39m(\u001b[39m'\u001b[39m\u001b[39mIt took \u001b[39m\u001b[39m'\u001b[39m \u001b[39m+\u001b[39m \u001b[39mstr\u001b[39m(output[\u001b[39m1\u001b[39m]) \u001b[39m+\u001b[39m \u001b[39m'\u001b[39m\u001b[39m seconds to find \u001b[39m\u001b[39m'\u001b[39m \u001b[39m+\u001b[39m \u001b[39mstr\u001b[39m(output[\u001b[39m0\u001b[39m]) \u001b[39m+\u001b[39m \u001b[39m'\u001b[39m\u001b[39m fundamental solutions for n = \u001b[39m\u001b[39m'\u001b[39m \u001b[39m+\u001b[39m \u001b[39mstr\u001b[39m(n))\n",
      "\u001b[1;32m/mnt/c/Rishi Ghia/CIS 189/Project/Files/SAT_nQueens.ipynb Cell 23'\u001b[0m in \u001b[0;36msolve\u001b[0;34m(self, print)\u001b[0m\n\u001b[1;32m     <a href='vscode-notebook-cell://wsl%2Bubuntu/mnt/c/Rishi%20Ghia/CIS%20189/Project/Files/SAT_nQueens.ipynb#ch0000021vscode-remote?line=28'>29</a>\u001b[0m         cnf\u001b[39m.\u001b[39mappend(clause)\n\u001b[1;32m     <a href='vscode-notebook-cell://wsl%2Bubuntu/mnt/c/Rishi%20Ghia/CIS%20189/Project/Files/SAT_nQueens.ipynb#ch0000021vscode-remote?line=29'>30</a>\u001b[0m     num_soln \u001b[39m+\u001b[39m\u001b[39m=\u001b[39m \u001b[39m1\u001b[39m\n\u001b[0;32m---> <a href='vscode-notebook-cell://wsl%2Bubuntu/mnt/c/Rishi%20Ghia/CIS%20189/Project/Files/SAT_nQueens.ipynb#ch0000021vscode-remote?line=30'>31</a>\u001b[0m     literals \u001b[39m=\u001b[39m pycosat\u001b[39m.\u001b[39;49msolve(cnf)\n\u001b[1;32m     <a href='vscode-notebook-cell://wsl%2Bubuntu/mnt/c/Rishi%20Ghia/CIS%20189/Project/Files/SAT_nQueens.ipynb#ch0000021vscode-remote?line=32'>33</a>\u001b[0m time_taken \u001b[39m=\u001b[39m timer()\u001b[39m-\u001b[39mt\n\u001b[1;32m     <a href='vscode-notebook-cell://wsl%2Bubuntu/mnt/c/Rishi%20Ghia/CIS%20189/Project/Files/SAT_nQueens.ipynb#ch0000021vscode-remote?line=34'>35</a>\u001b[0m \u001b[39mreturn\u001b[39;00m num_soln, time_taken\n",
      "\u001b[0;31mKeyboardInterrupt\u001b[0m: "
     ]
    }
   ],
   "source": [
    "for n in range(4, 16):\n",
    "    solver = NQueensSAT(n)\n",
    "    output = solver.solve()\n",
    "    print('It took ' + str(output[1]) + ' seconds to find ' + str(output[0]) + ' fundamental solutions for n = ' + str(n)) "
   ]
  }
 ],
 "metadata": {
  "interpreter": {
   "hash": "05e58b451a4c74a0ad075875834b7a214f26ac77f2d4c48ba0b3f2d8ef5d4338"
  },
  "kernelspec": {
   "display_name": "Python 3.8.10 ('cis_189-SPgVG4bW-py3.8')",
   "language": "python",
   "name": "python3"
  },
  "language_info": {
   "codemirror_mode": {
    "name": "ipython",
    "version": 3
   },
   "file_extension": ".py",
   "mimetype": "text/x-python",
   "name": "python",
   "nbconvert_exporter": "python",
   "pygments_lexer": "ipython3",
   "version": "3.8.10"
  },
  "orig_nbformat": 4
 },
 "nbformat": 4,
 "nbformat_minor": 2
}
